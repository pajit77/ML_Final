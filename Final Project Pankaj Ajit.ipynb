{
 "cells": [
  {
   "cell_type": "markdown",
   "metadata": {},
   "source": [
    "# Final Project Report: Movie Revenue Classification\n",
    "# Pankaj Ajit\n",
    "# pajit@andrew.cmu.edu"
   ]
  },
  {
   "cell_type": "markdown",
   "metadata": {},
   "source": [
    "### INTRODUCTION"
   ]
  },
  {
   "cell_type": "markdown",
   "metadata": {},
   "source": [
    "#### An introduction that explains what prediction problem you have selected </br>\n",
    "\n",
    "I've chosen the movie revenue dataset provided in the course. I'm going to predict whether a movie will be successful based on its pre-release reviews. I define successful movie as any movie that makes over 10 million dollars at the box office. Therefore this becomes a text classification (supervised) problem. \n",
    "\n",
    "#### What is interesting and important about it\n",
    "\n",
    "There are many films produced in a year but only a few of those are succesful. The uncertainty in audience tastes leads us to interesting aspects of the problem-\n",
    "1. Making a movie requires a signigicant investment of time and effort. The least investors expect is to make their money back. Based on the prediction of this model, investors can make a decision whether to green light this movie or not. This will reduce the risk of investment.\n",
    "2. Many productoin houses play it safe and not give chances to upcoming writers with great scripts. You often hear stories of scripts that were turned down for many years before they were made and went on to be hits. The predictions from this project may allow investors to take more chances on good scripts regardless of whether the person is new to the industry.\n",
    "I decided to focus more on the second point. Which means that for me, from an artistic point of view, I want more of the good scripts to be made into movies. So I care about maximizing my true positives.\n",
    "\n",
    "\n",
    "#### Prior work\n",
    "1. [1] Predicting box-office success of motion pictures with neural networks, Shrada et al. https://www.sciencedirect.com/science/article/pii/S0957417405001399\n",
    "They found that neural networks performed better compared to logistic regression. I got the idea to turn this into a classification problem from them. They had converted the revenue into 9 classes, however, I relaxed the class constraints and turned into a binary classification problem. They also had some interesting category features - genre,sequel, MPAA rating.\n",
    "\n",
    "2.  [2]“Predicting Movie Box Office Gross” by Jason van der Merwe et al. http://www.jasonvandermerwe.com/pdf/antevorta.pdf\n",
    "They used Logistic regression as their method. I will adopt this as my baseline. They also had some interesting ways to reduce the feature space like excluding actor names in the data who only acted in 1 film. This helped them reduce the dimensionality and sped up their algorithms. I think I will adopt a similar approach and remove all nouns that occured only once. They also used features like MPAA ratings\n",
    "\n",
    "3. [3] \"Feature selection, l1 vs l2 regularization, and rotational invariance\" https://pdfs.semanticscholar.org/8650/a37500346c52cae22f9180af67a50c715f89.pdf by Andrew Ng. It talks about L1 as a good way of performing regularization.\n",
    "\n",
    "\n",
    "#### Describes at a high level the ideas you applied as you were working on your project.  \n",
    "At a high level these are the steps that I performed-\n",
    "1. Data Exploration, cleaning, and making 2 classes from the revenue\n",
    "2. Creating feature representation of text by using unigram word counts\n",
    "3. Building a baseline logistic regression model on it\n",
    "4. Defining accuracy in terms of \"accuracy\" and also evaluating it by looking at the confusion matrix for true positive rates. I care more about predicting success.\n",
    "5. Iteratively performing error analysis and improving features \n",
    "6. Tuning and configuring logistic regression, trying other models.\n",
    "\n",
    "\n"
   ]
  },
  {
   "cell_type": "markdown",
   "metadata": {},
   "source": [
    "### DESCRIPTION OF THE DATA AND SET UP"
   ]
  },
  {
   "cell_type": "markdown",
   "metadata": {},
   "source": [
    "#### Start by describing what raw features were given to you\n",
    "The movie revenue data set was given to me. There were 3 data sets in total - train, dev and test set.\n",
    "It was already partitioned and I didn't have to create these 3 sets on my own. \n",
    "Each set comprised of 1 feautre consisting of text and the other the revenue made by the movie at the box office. The text was the review of the movie during pre-release. The revenue was numeric.\n",
    "\n",
    "#### What you did to turn it into a tabular form that could be input to a machine learning algorithm.  \n",
    "The data was already in csv format.\n",
    "\n",
    "#### How you cleaned the data if necessary  \n",
    "I searched for missing values in the revenue column and foud none. \n",
    "No other cleaning was done in the initial stages.\n",
    "\n",
    "#### Initial feature space representation\n",
    "I created count vectors for the text so that it could be read by the logistic regression algorithm.\n",
    "Explanation: The entire vocabulary of words is created as feature headers. The count of each word in a data point will be the feature value against the feature headers for that data point.\n",
    "\n",
    "\n",
    "#### You should also discuss what you decided would be your class value  \n",
    "I made histograms of the revenue. Based on the histogram for revenue, I think that movies making more than 10 million can be called box office success. I did not want to set a stricter (higher value) because then the classes become too imbalanced and dealing with class imbalance becomes yet another challenge. Anything over 10 million was labelled with a class of 1, anything less was labelled with a class of 0"
   ]
  },
  {
   "cell_type": "code",
   "execution_count": 1,
   "metadata": {},
   "outputs": [
    {
     "data": {
      "text/html": [
       "<div>\n",
       "<style>\n",
       "    .dataframe thead tr:only-child th {\n",
       "        text-align: right;\n",
       "    }\n",
       "\n",
       "    .dataframe thead th {\n",
       "        text-align: left;\n",
       "    }\n",
       "\n",
       "    .dataframe tbody tr th {\n",
       "        vertical-align: top;\n",
       "    }\n",
       "</style>\n",
       "<table border=\"1\" class=\"dataframe\">\n",
       "  <thead>\n",
       "    <tr style=\"text-align: right;\">\n",
       "      <th></th>\n",
       "      <th>text</th>\n",
       "      <th>class</th>\n",
       "    </tr>\n",
       "  </thead>\n",
       "  <tbody>\n",
       "    <tr>\n",
       "      <th>0</th>\n",
       "      <td>Giovanni Ribisi, with pasty skin and hair slic...</td>\n",
       "      <td>20774.0</td>\n",
       "    </tr>\n",
       "    <tr>\n",
       "      <th>1</th>\n",
       "      <td>“13 Tzameti” flaunts a grim sense of the absu...</td>\n",
       "      <td>10805.0</td>\n",
       "    </tr>\n",
       "    <tr>\n",
       "      <th>2</th>\n",
       "      <td>Based on a Stephen King short story that bears...</td>\n",
       "      <td>20617667.0</td>\n",
       "    </tr>\n",
       "    <tr>\n",
       "      <th>3</th>\n",
       "      <td>iven the number of films that have featured as...</td>\n",
       "      <td>818.0</td>\n",
       "    </tr>\n",
       "    <tr>\n",
       "      <th>4</th>\n",
       "      <td>Richard Donner still has it. 16 Blocksmay be a...</td>\n",
       "      <td>11855260.0</td>\n",
       "    </tr>\n",
       "    <tr>\n",
       "      <th>5</th>\n",
       "      <td>A serial lover meditates on longing a...</td>\n",
       "      <td>113074.0</td>\n",
       "    </tr>\n",
       "    <tr>\n",
       "      <th>6</th>\n",
       "      <td>The sword-and-sandals genre is one of the few ...</td>\n",
       "      <td>70885301.0</td>\n",
       "    </tr>\n",
       "    <tr>\n",
       "      <th>7</th>\n",
       "      <td>There's nothing in the vampire epic 30 Days of...</td>\n",
       "      <td>15951902.0</td>\n",
       "    </tr>\n",
       "    <tr>\n",
       "      <th>8</th>\n",
       "      <td>Westerns and remakes are two film categories w...</td>\n",
       "      <td>14035033.0</td>\n",
       "    </tr>\n",
       "    <tr>\n",
       "      <th>9</th>\n",
       "      <td>This world-famous British series is one of the...</td>\n",
       "      <td>120207.0</td>\n",
       "    </tr>\n",
       "  </tbody>\n",
       "</table>\n",
       "</div>"
      ],
      "text/plain": [
       "                                                text       class\n",
       "0  Giovanni Ribisi, with pasty skin and hair slic...     20774.0\n",
       "1   “13 Tzameti” flaunts a grim sense of the absu...     10805.0\n",
       "2  Based on a Stephen King short story that bears...  20617667.0\n",
       "3  iven the number of films that have featured as...       818.0\n",
       "4  Richard Donner still has it. 16 Blocksmay be a...  11855260.0\n",
       "5           A serial lover meditates on longing a...    113074.0\n",
       "6  The sword-and-sandals genre is one of the few ...  70885301.0\n",
       "7  There's nothing in the vampire epic 30 Days of...  15951902.0\n",
       "8  Westerns and remakes are two film categories w...  14035033.0\n",
       "9  This world-famous British series is one of the...    120207.0"
      ]
     },
     "execution_count": 1,
     "metadata": {},
     "output_type": "execute_result"
    }
   ],
   "source": [
    "import pandas as pd\n",
    "import warnings\n",
    "warnings.filterwarnings('ignore')\n",
    "\n",
    "\n",
    "train = pd.read_csv('7domains-train.csv')\n",
    "dev =  pd.read_csv('7domains-dev.csv')\n",
    "test = pd.read_csv('7domains-test.csv')\n",
    "\n",
    "train.head(10)"
   ]
  },
  {
   "cell_type": "code",
   "execution_count": 2,
   "metadata": {},
   "outputs": [
    {
     "name": "stdout",
     "output_type": "stream",
     "text": [
      "(1147, 2)\n",
      "(317, 2)\n",
      "(254, 2)\n"
     ]
    }
   ],
   "source": [
    "print (train.shape)\n",
    "print (dev.shape)\n",
    "print (test.shape)"
   ]
  },
  {
   "cell_type": "markdown",
   "metadata": {},
   "source": [
    "In the above cell you see the number of data points  in each file. <br/>\n",
    "In the code below, I'm exploring the revenue to decide what I should set as my classes."
   ]
  },
  {
   "cell_type": "code",
   "execution_count": 3,
   "metadata": {},
   "outputs": [
    {
     "data": {
      "image/png": "[encoded data removed]",
      "text/plain": [
       "<matplotlib.figure.Figure at 0x167c8ab0160>"
      ]
     },
     "metadata": {},
     "output_type": "display_data"
    }
   ],
   "source": [
    "from matplotlib import pyplot as plt\n",
    "plt.hist(train['class'])\n",
    "plt.show()"
   ]
  },
  {
   "cell_type": "markdown",
   "metadata": {},
   "source": [
    "##### Decision on class values:\n",
    "Based on the code histogram for class (revenue), I think that movies making more than 10 million can be called box office success. I did not want to set a stricter (higher value) because then the classes become too imbalanced and dealing with that becomes harder. "
   ]
  },
  {
   "cell_type": "code",
   "execution_count": 4,
   "metadata": {},
   "outputs": [
    {
     "data": {
      "text/plain": [
       "(1147, 3)"
      ]
     },
     "execution_count": 4,
     "metadata": {},
     "output_type": "execute_result"
    }
   ],
   "source": [
    "def f(row):\n",
    "    if row['class'] > 10000000:\n",
    "        val =1\n",
    "    else:\n",
    "        val = 0\n",
    "    return val\n",
    "\n",
    "train['Label'] = train.apply(f, axis=1)\n",
    "dev['Label'] = train.apply(f, axis=1)\n",
    "test['Label'] = train.apply(f, axis=1)\n",
    "train.shape"
   ]
  },
  {
   "cell_type": "code",
   "execution_count": 5,
   "metadata": {},
   "outputs": [
    {
     "data": {
      "image/png": "[encoded data removed]",
      "text/plain": [
       "<matplotlib.figure.Figure at 0x167ca98ca58>"
      ]
     },
     "metadata": {},
     "output_type": "display_data"
    }
   ],
   "source": [
    "plt.hist(train['Label'])\n",
    "plt.show()"
   ]
  },
  {
   "cell_type": "code",
   "execution_count": 6,
   "metadata": {},
   "outputs": [
    {
     "data": {
      "image/png": "[encoded data removed]",
      "text/plain": [
       "<matplotlib.figure.Figure at 0x167ca8325f8>"
      ]
     },
     "metadata": {},
     "output_type": "display_data"
    }
   ],
   "source": [
    "plt.hist(dev['Label'])\n",
    "plt.show()"
   ]
  },
  {
   "cell_type": "markdown",
   "metadata": {},
   "source": [
    "##### Count vectors for feature space representation\n",
    "Before a baseline model is created I have to figure out a way to get represent features from text. I will tokenize the words and get the count of each word in the vocabulary in each data point. This ignores word order but it will help me get to a baseline model."
   ]
  },
  {
   "cell_type": "code",
   "execution_count": 7,
   "metadata": {},
   "outputs": [
    {
     "data": {
      "text/plain": [
       "(1147, 68844)"
      ]
     },
     "execution_count": 7,
     "metadata": {},
     "output_type": "execute_result"
    }
   ],
   "source": [
    "from sklearn.feature_extraction.text import CountVectorizer\n",
    "count_vect = CountVectorizer()\n",
    "X_train_counts = count_vect.fit_transform(train.text)\n",
    "X_dev_counts = count_vect.transform(dev.text)\n",
    "X_test_counts = count_vect.transform(test.text)\n",
    "X_train_counts.shape"
   ]
  },
  {
   "cell_type": "markdown",
   "metadata": {},
   "source": [
    "### BASELINE and ERROR ANALYSIS"
   ]
  },
  {
   "cell_type": "markdown",
   "metadata": {},
   "source": [
    "#### A description of your baseline experiment\n",
    "Similar to paper [2] I chose logistic regression for my baseline model.  F(z) = 1/(1+e^-z).<br/>\n",
    "I did 5 fold cross validation on the train set maintaining default settings for the hyperparameters on the logistic model.\n",
    "I chose accuracy for evaluating my model (fraction of correct predictions) when evaluating my cross valdation.\n",
    "After cross validation, I tested the model on the dev set to check for overfitting/underfitting. I want to generalize over unseen data. Additionally, I also computed the kappa score as compared to a majority classifier. Here the majority classifier will predict 0 for all classes.\n",
    "\n",
    "\n",
    "#### One interesting error analysis \n",
    "I submitted 4 error analysis in total which were done in light side. I did many more.\n",
    "The basic procedure was to look at horizontal and vertical absolute differences along with feature weights\n",
    "for misclassified positives. To name a few- I did stop word removal, bigrams, word embeddings using word2vec, tf idf etc. None of these had a significant impact on the performance.\n",
    "\n",
    "Here I will describe 1 more interesting error analysis\n",
    "\n",
    "#### problematic features you identified \n",
    "According to the paper [1] the movie reviews are rated as MPAA: R for adult rated audiences. \n",
    "Similarly there are other movie ratings. But when I'm performing word vectorization there are a few problems\n",
    "1. It doesn't capture 3 word combinations like this\n",
    "2. 'A' could be interpreted as \"A house on the road\" instead of as part of the rating. \n",
    "Here's my hypothesis - I think that movie ratings are important for deciding the amount of money it will make.  For example, an adult rated movie with strong sexual content may not make as much money as a family friendly movie.\n",
    "\n",
    "#### what ideas you had for improvement\n",
    "My idea is to capture all MCAA ratings as new features\n",
    "1. MPAA rating: G\n",
    "2. MPAA rating: R\n",
    "3. MPAA rating: Unrated\n",
    "4. MPAA rating:PG\n",
    "5. MPAA rating: NC\n",
    "\n",
    "\n",
    "#### an evaluation of whether it worked.\n",
    "There no significant improvement. I got the same accuracy as before. A possible reason could be that there simply are enough people who watch each genre. On further research I found papers claiming that either MPAA worked or that MPAA was not a significant feature."
   ]
  },
  {
   "cell_type": "markdown",
   "metadata": {},
   "source": [
    "##### Building logistic regression for baseline"
   ]
  },
  {
   "cell_type": "code",
   "execution_count": 8,
   "metadata": {},
   "outputs": [
    {
     "name": "stdout",
     "output_type": "stream",
     "text": [
      "the accuracy of each fold of prediction is\n",
      "0.821739130435\n",
      "0.847826086957\n",
      "0.8\n",
      "0.847161572052\n",
      "0.859649122807\n",
      "The average accuracy is 0.83527518245\n"
     ]
    }
   ],
   "source": [
    "import numpy as np\n",
    "import sklearn\n",
    "from sklearn import linear_model\n",
    "clf = linear_model.LogisticRegression()\n",
    "from sklearn.model_selection import cross_validate\n",
    "from sklearn.metrics import accuracy_score, cohen_kappa_score\n",
    "mj_clf_train = train.shape[0]* [0]\n",
    "mj_clf_dev = dev.shape[0]* [0]\n",
    "mj_clf_test = test.shape[0]* [0]\n",
    "scores = cross_validate(clf, X_train_counts, train.Label, scoring='accuracy',cv=5, return_train_score=False)\n",
    "print (\"the accuracy of each fold of prediction is\")\n",
    "summer = 0\n",
    "for score in scores['test_score']:\n",
    "    summer+=score\n",
    "    print (score)\n",
    "print (\"The average accuracy is\", summer/5)"
   ]
  },
  {
   "cell_type": "markdown",
   "metadata": {},
   "source": [
    "##### Dev set prediction and Confusion matrix  "
   ]
  },
  {
   "cell_type": "code",
   "execution_count": 9,
   "metadata": {},
   "outputs": [
    {
     "name": "stdout",
     "output_type": "stream",
     "text": [
      "dev accuracy is  0.665615141956\n",
      "[[198  53]\n",
      " [ 53  13]]\n",
      "True positive rate is 0.19696969697\n"
     ]
    }
   ],
   "source": [
    "clf.fit(X_train_counts,train.Label)\n",
    "dev_label_predicted = clf.predict(X_dev_counts)\n",
    "print (\"dev accuracy is \",np.mean(dev_label_predicted == dev.Label))\n",
    "tn, fp, fn, tp = sklearn.metrics.confusion_matrix(y_true =dev.Label,y_pred =dev_label_predicted,).ravel()\n",
    "print (sklearn.metrics.confusion_matrix(dev_label_predicted, dev.Label))\n",
    "print (\"True positive rate is\", (tp)/(tp+fn))"
   ]
  },
  {
   "cell_type": "markdown",
   "metadata": {},
   "source": [
    "The dev set has poor performance.<br/> \n",
    "This shows that my model is overfitting the training set. <br/> \n",
    "Looking at the confusion matrix. <br/> \n",
    "I also see most of the positives are incorrectly classified as negatives.<br/> "
   ]
  },
  {
   "cell_type": "markdown",
   "metadata": {
    "collapsed": true
   },
   "source": [
    "##### Error Analysis for MPAA ratings"
   ]
  },
  {
   "cell_type": "code",
   "execution_count": 10,
   "metadata": {},
   "outputs": [
    {
     "name": "stdout",
     "output_type": "stream",
     "text": [
      "the accuracy of each fold of prediction is\n",
      "0.821739130435\n",
      "0.847826086957\n",
      "0.8\n",
      "0.847161572052\n",
      "0.859649122807\n",
      "The average accuracy on train is 0.83527518245\n",
      "dev accuracy is  0.668769716088\n",
      "[[198  52]\n",
      " [ 53  14]]\n",
      "True positive rate is 0.212121212121\n"
     ]
    }
   ],
   "source": [
    "temp= train[train['text'].str.contains(\"MPAA rating:G|MPAA rating: G\")]\n",
    "temp['G_Rating'] = 1\n",
    "temp = temp[['G_Rating']]\n",
    "train = train.join(temp)\n",
    "\n",
    "temp= train[train['text'].str.contains(\"MPAA rating:R|MPAA rating: R\")]\n",
    "temp['R_Rating'] = 1\n",
    "temp = temp[['R_Rating']]\n",
    "train = train.join(temp)\n",
    "\n",
    "temp= train[train['text'].str.contains(\"MPAA rating:PG|MPAA rating: PG\")]\n",
    "temp['PG_Rating'] = 1\n",
    "temp = temp[['PG_Rating']]\n",
    "train = train.join(temp)\n",
    "\n",
    "temp= train[train['text'].str.contains(\"MPAA rating:NC|MPAA rating: NC\")]\n",
    "temp['NC_Rating'] = 1\n",
    "temp = temp[['NC_Rating']]\n",
    "train = train.join(temp)\n",
    "\n",
    "temp= train[train['text'].str.contains(\"MPAA rating:Unrated|MPAA rating: Unrated\")]\n",
    "temp['Un_Rating'] = 1\n",
    "temp = temp[['Un_Rating']]\n",
    "train = train.join(temp)\n",
    "\n",
    "temp= dev[dev['text'].str.contains(\"MPAA rating:G|MPAA rating: G\")]\n",
    "temp['G_Rating'] = 1\n",
    "temp = temp[['G_Rating']]\n",
    "dev = dev.join(temp)\n",
    "\n",
    "temp= dev[dev['text'].str.contains(\"MPAA rating:R|MPAA rating: R\")]\n",
    "temp['R_Rating'] = 1\n",
    "temp = temp[['R_Rating']]\n",
    "dev = dev.join(temp)\n",
    "\n",
    "temp= dev[dev['text'].str.contains(\"MPAA rating:PG|MPAA rating: PG\")]\n",
    "temp['PG_Rating'] = 1\n",
    "temp = temp[['PG_Rating']]\n",
    "dev = dev.join(temp)\n",
    "\n",
    "temp= dev[dev['text'].str.contains(\"MPAA rating:NC|MPAA rating: NC\")]\n",
    "temp['NC_Rating'] = 1\n",
    "temp = temp[['NC_Rating']]\n",
    "dev = dev.join(temp)\n",
    "\n",
    "temp= dev[dev['text'].str.contains(\"MPAA rating:Unrated|MPAA rating: Unrated\")]\n",
    "temp['Un_Rating'] = 1\n",
    "temp = temp[['Un_Rating']]\n",
    "dev = dev.join(temp)\n",
    "\n",
    "temp= test[test['text'].str.contains(\"MPAA rating:G|MPAA rating: G\")]\n",
    "temp['G_Rating'] = 1\n",
    "temp = temp[['G_Rating']]\n",
    "test = test.join(temp)\n",
    "\n",
    "temp= test[test['text'].str.contains(\"MPAA rating:R|MPAA rating: R\")]\n",
    "temp['R_Rating'] = 1\n",
    "temp = temp[['R_Rating']]\n",
    "test = test.join(temp)\n",
    "\n",
    "temp= test[test['text'].str.contains(\"MPAA rating:PG|MPAA rating: PG\")]\n",
    "temp['PG_Rating'] = 1\n",
    "temp = temp[['PG_Rating']]\n",
    "test = test.join(temp)\n",
    "\n",
    "temp= test[test['text'].str.contains(\"MPAA rating:NC|MPAA rating: NC\")]\n",
    "temp['NC_Rating'] = 1\n",
    "temp = temp[['NC_Rating']]\n",
    "test = test.join(temp)\n",
    "\n",
    "temp= test[test['text'].str.contains(\"MPAA rating:Unrated|MPAA rating: Unrated\")]\n",
    "temp['Un_Rating'] = 1\n",
    "temp = temp[['Un_Rating']]\n",
    "test = test.join(temp)\n",
    "\n",
    "train.fillna(0, inplace=True)\n",
    "dev.fillna(0, inplace=True)\n",
    "test.fillna(0, inplace=True)\n",
    "train.head(10)\n",
    "\n",
    "train_ft = train[['G_Rating','R_Rating','PG_Rating','NC_Rating','Un_Rating']]\n",
    "dev_ft = dev[['G_Rating','R_Rating','PG_Rating','NC_Rating','Un_Rating']]\n",
    "test_ft = test[['G_Rating','R_Rating','PG_Rating','NC_Rating','Un_Rating']]\n",
    "X_train_counts = pd.DataFrame(X_train_counts.todense(), columns=count_vect.get_feature_names())\n",
    "X_train_counts = X_train_counts.join(train_ft)\n",
    "X_dev_counts = pd.DataFrame(X_dev_counts.todense(), columns=count_vect.get_feature_names())\n",
    "X_dev_counts = X_dev_counts.join(dev_ft)\n",
    "X_test_counts = pd.DataFrame(X_test_counts.todense(), columns=count_vect.get_feature_names())\n",
    "X_test_counts = X_test_counts.join(test_ft)\n",
    "\n",
    "clf = linear_model.LogisticRegression()\n",
    "scores = cross_validate(clf, X_train_counts, train.Label, scoring='accuracy',cv=5, return_train_score=False)\n",
    "print (\"the accuracy of each fold of prediction is\")\n",
    "summer = 0\n",
    "for score in scores['test_score']:\n",
    "    summer+=score\n",
    "    print (score)\n",
    "print (\"The average accuracy on train is\", summer/5)\n",
    "clf.fit(X_train_counts,train.Label)\n",
    "dev_label_predicted = clf.predict(X_dev_counts)\n",
    "print (\"dev accuracy is \",np.mean(dev_label_predicted == dev.Label))\n",
    "tn, fp, fn, tp = sklearn.metrics.confusion_matrix(y_true =dev.Label,y_pred =dev_label_predicted,).ravel()\n",
    "print (sklearn.metrics.confusion_matrix(dev_label_predicted, dev.Label))\n",
    "print (\"True positive rate is\", (tp)/(tp+fn))"
   ]
  },
  {
   "cell_type": "markdown",
   "metadata": {
    "collapsed": true
   },
   "source": [
    "### TUNING"
   ]
  },
  {
   "cell_type": "markdown",
   "metadata": {
    "collapsed": true
   },
   "source": [
    "I observed that my model was over-fitting the data. Given this I decided to introduce regularizatoin to control it.\n",
    "There were a few choices of regularization that I considered -\n",
    "1. L1 regularization which uses the L1 norm \n",
    "2. L2 regularizatoin which uses the L2 norm\n",
    "\n",
    "One important consideration that I had is that my data was incredibly sparse.\n",
    "In paper [3] I read about the benefits of choosing L1 over L2. Therefore I'm choosing L1.\n",
    "\n",
    "In the Sklearn logistic regression model the value to tune is C. <br/>\n",
    "The smaller the C value, the stronger the regularization. <br/>\n",
    "The default value is 1.<br/>\n",
    "I decided to tune by trying out many orders of 10ths lower each time of C <br/>\n",
    "\n",
    "Each time I change C value, I add a plot point of training error and development error.\n",
    "I made the plot on a negative log scale (base 10) so that it is more interpretable.\n",
    "I found a stabilization of train and dev error in the plots near the -log scale 4 mark.\n",
    "However, what I noticed is that my true positive rate becomes very poor at this mark. So prioritizing my importance of getting more true positives, I decided to use C = 0.1 <br/>\n",
    "\n",
    "There was no significant improvement on the dev set with repect to the baseline."
   ]
  },
  {
   "cell_type": "code",
   "execution_count": 11,
   "metadata": {},
   "outputs": [
    {
     "data": {
      "image/png": "[encoded data removed]",
      "text/plain": [
       "<matplotlib.figure.Figure at 0x167cfeb95c0>"
      ]
     },
     "metadata": {},
     "output_type": "display_data"
    }
   ],
   "source": [
    "C_values = [1,0.1,0.01,0.001,0.0001,0.00001]\n",
    "#C_values = list(reversed(C_values))\n",
    "train_error = list()\n",
    "dev_error = list()\n",
    "\n",
    "for c_val in C_values:\n",
    "    clf = linear_model.LogisticRegression(penalty='l1', C = c_val)\n",
    "    scores = cross_validate(clf, X_train_counts, train.Label, scoring='accuracy',cv=5, return_train_score=False)\n",
    "    summer = 0\n",
    "    for score in scores['test_score']:\n",
    "        summer+=score\n",
    "    train_error.append(summer/5)\n",
    "    clf.fit(X_train_counts,train.Label)\n",
    "    dev_label_predicted = clf.predict(X_dev_counts)\n",
    "    dev_error.append(np.mean(dev_label_predicted == dev.Label))\n",
    "\n",
    "for i in range(0,len(C_values),1):\n",
    "    train_error[i] = 1-train_error[i]\n",
    "    dev_error[i] = 1-dev_error[i] \n",
    "\n",
    "C_values = [0,1,2,3,4,5]\n",
    "plt.plot(C_values, train_error, C_values, dev_error)\n",
    "plt.show()"
   ]
  },
  {
   "cell_type": "code",
   "execution_count": 12,
   "metadata": {},
   "outputs": [
    {
     "name": "stdout",
     "output_type": "stream",
     "text": [
      "the accuracy of each fold of prediction is\n",
      "0.84347826087\n",
      "0.834782608696\n",
      "0.839130434783\n",
      "0.855895196507\n",
      "0.815789473684\n",
      "The average accuracy in train set is 0.837815194908\n",
      "dev accuracy is  0.700315457413\n",
      "[[209  53]\n",
      " [ 42  13]]\n",
      "True positive rate is 0.19696969697\n"
     ]
    }
   ],
   "source": [
    "clf = linear_model.LogisticRegression(penalty='l1', C =  0.1)\n",
    "scores = cross_validate(clf, X_train_counts, train.Label, scoring='accuracy',cv=5, return_train_score=False)\n",
    "print (\"the accuracy of each fold of prediction is\")\n",
    "summer = 0\n",
    "for score in scores['test_score']:\n",
    "    summer+=score\n",
    "    print (score)\n",
    "print (\"The average accuracy in train set is\", summer/5)\n",
    "clf.fit(X_train_counts,train.Label)\n",
    "dev_label_predicted = clf.predict(X_dev_counts)\n",
    "print (\"dev accuracy is \",np.mean(dev_label_predicted == dev.Label))\n",
    "tn, fp, fn, tp = sklearn.metrics.confusion_matrix(y_true =dev.Label,y_pred =dev_label_predicted,).ravel()\n",
    "print (sklearn.metrics.confusion_matrix(dev_label_predicted, dev.Label))\n",
    "print (\"True positive rate is\", (tp)/(tp+fn))"
   ]
  },
  {
   "cell_type": "markdown",
   "metadata": {},
   "source": [
    "### TEST SET EVALUATION"
   ]
  },
  {
   "cell_type": "markdown",
   "metadata": {},
   "source": [
    "I observe that the test set performance is close to the dev set performance."
   ]
  },
  {
   "cell_type": "code",
   "execution_count": 13,
   "metadata": {},
   "outputs": [
    {
     "name": "stdout",
     "output_type": "stream",
     "text": [
      "test accuracy is  0.661417322835\n",
      "[[157  47]\n",
      " [ 39  11]]\n",
      "True positive rate is 0.189655172414\n"
     ]
    }
   ],
   "source": [
    "test_label_predicted = clf.predict(X_test_counts)\n",
    "print (\"test accuracy is \",np.mean(test_label_predicted == test.Label))\n",
    "tn, fp, fn, tp = sklearn.metrics.confusion_matrix(y_true = test.Label,y_pred =test_label_predicted,).ravel()\n",
    "print (sklearn.metrics.confusion_matrix(test_label_predicted, test.Label))\n",
    "print (\"True positive rate is\", (tp)/(tp+fn))"
   ]
  },
  {
   "cell_type": "markdown",
   "metadata": {},
   "source": [
    "### DISCUSSION OF WHAT I LEARNED"
   ]
  },
  {
   "cell_type": "markdown",
   "metadata": {},
   "source": [
    "I learned about the following by doing this project-\n",
    "1. I learned that what we care about is generalizing on our data making sure that we don't just overfit a training set. We want to be able to predict accurately on unseen data. \n",
    "2. I also learned about improving features through an error analysis. In doing this project I tried a few ways but failed. But reading more I see many more interesting and possible ways of extracting meaningful information from text.\n",
    "3. Through the error analysis I learned that machine learning isnt' as black box as I had thought. By going through the data and studying the domain you can build better models.\n",
    "4. The whole process is iterative. And not to be all philosophical but- When you make a decision either the algorithm learns and if it doesn't then you learn.\n",
    "5. I also found that it is very hard to not lose the semantic meaning in text while getting feature representations from text. In this process I explored- word embeddings like word2vec and doc2vec. Even though I couldn't get it working as I wanted to, I still hope to use these in the future.\n",
    "6. Dealing with class imbalance is very hard and I have to explore explicit methods that target such situations. I read about over sampling techniques but haven't implemented it here."
   ]
  },
  {
   "cell_type": "markdown",
   "metadata": {
    "collapsed": true
   },
   "source": [
    "##### Thanks for the class Carolyn and Sree ! "
   ]
  },
  {
   "cell_type": "code",
   "execution_count": null,
   "metadata": {
    "collapsed": true
   },
   "outputs": [],
   "source": []
  }
 ],
 "metadata": {
  "kernelspec": {
   "display_name": "Python 3",
   "language": "python",
   "name": "python3"
  },
  "language_info": {
   "codemirror_mode": {
    "name": "ipython",
    "version": 3
   },
   "file_extension": ".py",
   "mimetype": "text/x-python",
   "name": "python",
   "nbconvert_exporter": "python",
   "pygments_lexer": "ipython3",
   "version": "3.6.3"
  }
 },
 "nbformat": 4,
 "nbformat_minor": 2
}
